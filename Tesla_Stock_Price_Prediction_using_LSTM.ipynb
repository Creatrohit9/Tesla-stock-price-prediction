{
  "nbformat": 4,
  "nbformat_minor": 0,
  "metadata": {
    "colab": {
      "name": "Tesla Stock Price Prediction using LSTM.ipynb",
      "provenance": [],
      "collapsed_sections": [],
      "mount_file_id": "1NX0RMIUoHo78Qjqj-xrnreT_tK1_pf9L",
      "authorship_tag": "ABX9TyNG6OowN4o5LhcKmpuUzK+e",
      "include_colab_link": true
    },
    "kernelspec": {
      "name": "python3",
      "display_name": "Python 3"
    },
    "language_info": {
      "name": "python"
    }
  },
  "cells": [
    {
      "cell_type": "markdown",
      "metadata": {
        "id": "view-in-github",
        "colab_type": "text"
      },
      "source": [
        "<a href=\"https://colab.research.google.com/github/Creatrohit9/Tesla-stock-price-prediction/blob/main/Tesla_Stock_Price_Prediction_using_LSTM.ipynb\" target=\"_parent\"><img src=\"https://colab.research.google.com/assets/colab-badge.svg\" alt=\"Open In Colab\"/></a>"
      ]
    },
    {
      "cell_type": "markdown",
      "source": [
        "## <b> Problem Description </b>"
      ],
      "metadata": {
        "id": "PIvSwsMF4yR9"
      }
    },
    {
      "cell_type": "markdown",
      "source": [
        ""
      ],
      "metadata": {
        "id": "yGHavutE4_xt"
      }
    },
    {
      "cell_type": "markdown",
      "source": [
        "## <b> Data Description </b>\n",
        "\n",
        "### <b>Attribute Information: </b>"
      ],
      "metadata": {
        "id": "fweoFBUu4-jj"
      }
    },
    {
      "cell_type": "markdown",
      "source": [
        ""
      ],
      "metadata": {
        "id": "cPE1OjX35AiP"
      }
    },
    {
      "cell_type": "code",
      "execution_count": 3,
      "metadata": {
        "id": "Js2AWENv3cjK"
      },
      "outputs": [],
      "source": [
        "import numpy as np # linear algebra\n",
        "import pandas as pd # data processing\n",
        "import matplotlib.pyplot as plt\n",
        "import pandas_datareader as web\n",
        "from sklearn.preprocessing import MinMaxScaler\n",
        "from keras.models import Sequential\n",
        "from keras.layers import Dense, LSTM\n",
        "import math"
      ]
    },
    {
      "cell_type": "code",
      "source": [
        "df_stk = pd.read_csv('/content/drive/MyDrive/Fintech Projects/Deep Learning +MLE/Tesla stock price prediction using LSTM/Tesla.csv - Tesla.csv.csv')"
      ],
      "metadata": {
        "id": "UtK3TN0pCvGs"
      },
      "execution_count": 7,
      "outputs": []
    },
    {
      "cell_type": "code",
      "source": [
        "df_stk.head()"
      ],
      "metadata": {
        "colab": {
          "base_uri": "https://localhost:8080/",
          "height": 238
        },
        "id": "37buXIFcdT3e",
        "outputId": "6c51a919-c2ed-49b2-da93-b46574f8c774"
      },
      "execution_count": 11,
      "outputs": [
        {
          "output_type": "execute_result",
          "data": {
            "text/plain": [
              "                 Open   High        Low      Close    Volume  Adj Close\n",
              "Date                                                                   \n",
              "2010-06-29  19.000000  25.00  17.540001  23.889999  18766300  23.889999\n",
              "2010-06-30  25.790001  30.42  23.299999  23.830000  17187100  23.830000\n",
              "2010-07-01  25.000000  25.92  20.270000  21.959999   8218800  21.959999\n",
              "2010-07-02  23.000000  23.10  18.709999  19.200001   5139800  19.200001\n",
              "2010-07-06  20.000000  20.00  15.830000  16.110001   6866900  16.110001"
            ],
            "text/html": [
              "\n",
              "  <div id=\"df-0929e8b1-6022-4ad4-9cda-187c4a87f66c\">\n",
              "    <div class=\"colab-df-container\">\n",
              "      <div>\n",
              "<style scoped>\n",
              "    .dataframe tbody tr th:only-of-type {\n",
              "        vertical-align: middle;\n",
              "    }\n",
              "\n",
              "    .dataframe tbody tr th {\n",
              "        vertical-align: top;\n",
              "    }\n",
              "\n",
              "    .dataframe thead th {\n",
              "        text-align: right;\n",
              "    }\n",
              "</style>\n",
              "<table border=\"1\" class=\"dataframe\">\n",
              "  <thead>\n",
              "    <tr style=\"text-align: right;\">\n",
              "      <th></th>\n",
              "      <th>Open</th>\n",
              "      <th>High</th>\n",
              "      <th>Low</th>\n",
              "      <th>Close</th>\n",
              "      <th>Volume</th>\n",
              "      <th>Adj Close</th>\n",
              "    </tr>\n",
              "    <tr>\n",
              "      <th>Date</th>\n",
              "      <th></th>\n",
              "      <th></th>\n",
              "      <th></th>\n",
              "      <th></th>\n",
              "      <th></th>\n",
              "      <th></th>\n",
              "    </tr>\n",
              "  </thead>\n",
              "  <tbody>\n",
              "    <tr>\n",
              "      <th>2010-06-29</th>\n",
              "      <td>19.000000</td>\n",
              "      <td>25.00</td>\n",
              "      <td>17.540001</td>\n",
              "      <td>23.889999</td>\n",
              "      <td>18766300</td>\n",
              "      <td>23.889999</td>\n",
              "    </tr>\n",
              "    <tr>\n",
              "      <th>2010-06-30</th>\n",
              "      <td>25.790001</td>\n",
              "      <td>30.42</td>\n",
              "      <td>23.299999</td>\n",
              "      <td>23.830000</td>\n",
              "      <td>17187100</td>\n",
              "      <td>23.830000</td>\n",
              "    </tr>\n",
              "    <tr>\n",
              "      <th>2010-07-01</th>\n",
              "      <td>25.000000</td>\n",
              "      <td>25.92</td>\n",
              "      <td>20.270000</td>\n",
              "      <td>21.959999</td>\n",
              "      <td>8218800</td>\n",
              "      <td>21.959999</td>\n",
              "    </tr>\n",
              "    <tr>\n",
              "      <th>2010-07-02</th>\n",
              "      <td>23.000000</td>\n",
              "      <td>23.10</td>\n",
              "      <td>18.709999</td>\n",
              "      <td>19.200001</td>\n",
              "      <td>5139800</td>\n",
              "      <td>19.200001</td>\n",
              "    </tr>\n",
              "    <tr>\n",
              "      <th>2010-07-06</th>\n",
              "      <td>20.000000</td>\n",
              "      <td>20.00</td>\n",
              "      <td>15.830000</td>\n",
              "      <td>16.110001</td>\n",
              "      <td>6866900</td>\n",
              "      <td>16.110001</td>\n",
              "    </tr>\n",
              "  </tbody>\n",
              "</table>\n",
              "</div>\n",
              "      <button class=\"colab-df-convert\" onclick=\"convertToInteractive('df-0929e8b1-6022-4ad4-9cda-187c4a87f66c')\"\n",
              "              title=\"Convert this dataframe to an interactive table.\"\n",
              "              style=\"display:none;\">\n",
              "        \n",
              "  <svg xmlns=\"http://www.w3.org/2000/svg\" height=\"24px\"viewBox=\"0 0 24 24\"\n",
              "       width=\"24px\">\n",
              "    <path d=\"M0 0h24v24H0V0z\" fill=\"none\"/>\n",
              "    <path d=\"M18.56 5.44l.94 2.06.94-2.06 2.06-.94-2.06-.94-.94-2.06-.94 2.06-2.06.94zm-11 1L8.5 8.5l.94-2.06 2.06-.94-2.06-.94L8.5 2.5l-.94 2.06-2.06.94zm10 10l.94 2.06.94-2.06 2.06-.94-2.06-.94-.94-2.06-.94 2.06-2.06.94z\"/><path d=\"M17.41 7.96l-1.37-1.37c-.4-.4-.92-.59-1.43-.59-.52 0-1.04.2-1.43.59L10.3 9.45l-7.72 7.72c-.78.78-.78 2.05 0 2.83L4 21.41c.39.39.9.59 1.41.59.51 0 1.02-.2 1.41-.59l7.78-7.78 2.81-2.81c.8-.78.8-2.07 0-2.86zM5.41 20L4 18.59l7.72-7.72 1.47 1.35L5.41 20z\"/>\n",
              "  </svg>\n",
              "      </button>\n",
              "      \n",
              "  <style>\n",
              "    .colab-df-container {\n",
              "      display:flex;\n",
              "      flex-wrap:wrap;\n",
              "      gap: 12px;\n",
              "    }\n",
              "\n",
              "    .colab-df-convert {\n",
              "      background-color: #E8F0FE;\n",
              "      border: none;\n",
              "      border-radius: 50%;\n",
              "      cursor: pointer;\n",
              "      display: none;\n",
              "      fill: #1967D2;\n",
              "      height: 32px;\n",
              "      padding: 0 0 0 0;\n",
              "      width: 32px;\n",
              "    }\n",
              "\n",
              "    .colab-df-convert:hover {\n",
              "      background-color: #E2EBFA;\n",
              "      box-shadow: 0px 1px 2px rgba(60, 64, 67, 0.3), 0px 1px 3px 1px rgba(60, 64, 67, 0.15);\n",
              "      fill: #174EA6;\n",
              "    }\n",
              "\n",
              "    [theme=dark] .colab-df-convert {\n",
              "      background-color: #3B4455;\n",
              "      fill: #D2E3FC;\n",
              "    }\n",
              "\n",
              "    [theme=dark] .colab-df-convert:hover {\n",
              "      background-color: #434B5C;\n",
              "      box-shadow: 0px 1px 3px 1px rgba(0, 0, 0, 0.15);\n",
              "      filter: drop-shadow(0px 1px 2px rgba(0, 0, 0, 0.3));\n",
              "      fill: #FFFFFF;\n",
              "    }\n",
              "  </style>\n",
              "\n",
              "      <script>\n",
              "        const buttonEl =\n",
              "          document.querySelector('#df-0929e8b1-6022-4ad4-9cda-187c4a87f66c button.colab-df-convert');\n",
              "        buttonEl.style.display =\n",
              "          google.colab.kernel.accessAllowed ? 'block' : 'none';\n",
              "\n",
              "        async function convertToInteractive(key) {\n",
              "          const element = document.querySelector('#df-0929e8b1-6022-4ad4-9cda-187c4a87f66c');\n",
              "          const dataTable =\n",
              "            await google.colab.kernel.invokeFunction('convertToInteractive',\n",
              "                                                     [key], {});\n",
              "          if (!dataTable) return;\n",
              "\n",
              "          const docLinkHtml = 'Like what you see? Visit the ' +\n",
              "            '<a target=\"_blank\" href=https://colab.research.google.com/notebooks/data_table.ipynb>data table notebook</a>'\n",
              "            + ' to learn more about interactive tables.';\n",
              "          element.innerHTML = '';\n",
              "          dataTable['output_type'] = 'display_data';\n",
              "          await google.colab.output.renderOutput(dataTable, element);\n",
              "          const docLink = document.createElement('div');\n",
              "          docLink.innerHTML = docLinkHtml;\n",
              "          element.appendChild(docLink);\n",
              "        }\n",
              "      </script>\n",
              "    </div>\n",
              "  </div>\n",
              "  "
            ]
          },
          "metadata": {},
          "execution_count": 11
        }
      ]
    },
    {
      "cell_type": "code",
      "source": [
        "df_stk.shape"
      ],
      "metadata": {
        "colab": {
          "base_uri": "https://localhost:8080/"
        },
        "id": "LU3WM9b9eVkz",
        "outputId": "f4692c3e-ee99-4510-eda1-f0a3f83fe39c"
      },
      "execution_count": 13,
      "outputs": [
        {
          "output_type": "execute_result",
          "data": {
            "text/plain": [
              "(1692, 6)"
            ]
          },
          "metadata": {},
          "execution_count": 13
        }
      ]
    },
    {
      "cell_type": "code",
      "source": [
        "df_stk.info()"
      ],
      "metadata": {
        "colab": {
          "base_uri": "https://localhost:8080/"
        },
        "id": "8bSAmLWPa6Dv",
        "outputId": "1959eea0-1987-4d01-de2b-2e0612d6550a"
      },
      "execution_count": 8,
      "outputs": [
        {
          "output_type": "stream",
          "name": "stdout",
          "text": [
            "<class 'pandas.core.frame.DataFrame'>\n",
            "RangeIndex: 1692 entries, 0 to 1691\n",
            "Data columns (total 7 columns):\n",
            " #   Column     Non-Null Count  Dtype  \n",
            "---  ------     --------------  -----  \n",
            " 0   Date       1692 non-null   object \n",
            " 1   Open       1692 non-null   float64\n",
            " 2   High       1692 non-null   float64\n",
            " 3   Low        1692 non-null   float64\n",
            " 4   Close      1692 non-null   float64\n",
            " 5   Volume     1692 non-null   int64  \n",
            " 6   Adj Close  1692 non-null   float64\n",
            "dtypes: float64(5), int64(1), object(1)\n",
            "memory usage: 92.7+ KB\n"
          ]
        }
      ]
    },
    {
      "cell_type": "code",
      "source": [
        "df_stk['Date'] = pd.to_datetime(df_stk['Date'])\n",
        "df_stk.set_index('Date',inplace=True)"
      ],
      "metadata": {
        "id": "8RVAI8wtbxOy"
      },
      "execution_count": 9,
      "outputs": []
    },
    {
      "cell_type": "code",
      "source": [
        "#plotting the data\n",
        "plt.figure(figsize=(16,8))\n",
        "plt.title('Close Price History')\n",
        "plt.plot(df_stk['Close'], color='red')\n",
        "plt.xlabel('Date', fontsize=18)\n",
        "plt.ylabel('Close Price USD', fontsize = 18)\n",
        "plt.show()"
      ],
      "metadata": {
        "colab": {
          "base_uri": "https://localhost:8080/",
          "height": 521
        },
        "id": "DD8TqW1db_0F",
        "outputId": "e2ca43bf-daa8-4b6f-b063-8cd2ea6b90a0"
      },
      "execution_count": 10,
      "outputs": [
        {
          "output_type": "display_data",
          "data": {
            "text/plain": [
              "<Figure size 1152x576 with 1 Axes>"
            ],
            "image/png": "[encoded data removed]"
          },
          "metadata": {
            "needs_background": "light"
          }
        }
      ]
    },
    {
      "cell_type": "code",
      "source": [
        "# create a new data frame with only 'Close column'\n",
        "data = df_stk.filter(['Close'])\n",
        "dataset = data.values #convert the data frame to a numpy array\n",
        "training_data_len = math.ceil(len(dataset)*.8)  # number of rows to train the model on\"\"The math. ceil() method rounds a number UP to the nearest integer, if necessary, and returns the result. Tip: To round a number DOWN to the nearest integer, look at the math.\"\n",
        "training_data_len\n"
      ],
      "metadata": {
        "colab": {
          "base_uri": "https://localhost:8080/"
        },
        "id": "-vKHApywdObo",
        "outputId": "b1b03fb1-9143-4569-b1b4-273ffeceed20"
      },
      "execution_count": 17,
      "outputs": [
        {
          "output_type": "execute_result",
          "data": {
            "text/plain": [
              "1354"
            ]
          },
          "metadata": {},
          "execution_count": 17
        }
      ]
    },
    {
      "cell_type": "code",
      "source": [
        "#scale the data\n",
        "scaler = MinMaxScaler(feature_range=(0,1))\n",
        "scaled_data = scaler.fit_transform(dataset)\n",
        "scaled_data"
      ],
      "metadata": {
        "colab": {
          "base_uri": "https://localhost:8080/"
        },
        "id": "Ky68k7IHeJbs",
        "outputId": "38e79414-e644-4ebb-d1c6-ef696497133c"
      },
      "execution_count": 14,
      "outputs": [
        {
          "output_type": "execute_result",
          "data": {
            "text/plain": [
              "array([[0.02993635],\n",
              "       [0.02971433],\n",
              "       [0.02279455],\n",
              "       ...,\n",
              "       [0.88784039],\n",
              "       [0.91122698],\n",
              "       [0.9091918 ]])"
            ]
          },
          "metadata": {},
          "execution_count": 14
        }
      ]
    },
    {
      "cell_type": "code",
      "source": [
        "#create the training dataset\n",
        "#create the scaled training dataset\n",
        "\n",
        "train_data = scaled_data[0:training_data_len, :]\n",
        "#Split the data into x_train, y_train datasets\n",
        "x_train = []\n",
        "y_train = []\n",
        "for i in range(60,len(train_data)):\n",
        "    x_train.append(train_data[i-60:i, 0])\n",
        "    y_train.append(train_data[i,0])\n",
        "    if i<=60:\n",
        "        print(x_train)\n",
        "        print(y_train)\n",
        "        print()"
      ],
      "metadata": {
        "colab": {
          "base_uri": "https://localhost:8080/"
        },
        "id": "2fxPvbDMfH7P",
        "outputId": "ddd8aabf-c3ae-48de-8f64-1cf71659f820"
      },
      "execution_count": 15,
      "outputs": [
        {
          "output_type": "stream",
          "name": "stdout",
          "text": [
            "[array([0.02993635, 0.02971433, 0.02279455, 0.01258141, 0.00114713,\n",
            "       0.        , 0.00614268, 0.00592066, 0.00462551, 0.00865897,\n",
            "       0.01494967, 0.01513469, 0.01791   , 0.02260953, 0.01665186,\n",
            "       0.01635583, 0.01924215, 0.02031528, 0.01905714, 0.01757696,\n",
            "       0.01820603, 0.01683689, 0.01531972, 0.01894612, 0.02275755,\n",
            "       0.02020426, 0.01720693, 0.01402457, 0.01406157, 0.01195234,\n",
            "       0.00777087, 0.00666075, 0.00932504, 0.01102724, 0.01239639,\n",
            "       0.01099023, 0.01106424, 0.01221137, 0.01602279, 0.01258141,\n",
            "       0.0151717 , 0.01461664, 0.01443162, 0.01506069, 0.01361752,\n",
            "       0.01720693, 0.01946418, 0.01942717, 0.01753997, 0.01887211,\n",
            "       0.01816903, 0.01617081, 0.01820603, 0.01968621, 0.02286856,\n",
            "       0.01902013, 0.01639284, 0.01946418, 0.01839106, 0.01506069])]\n",
            "[0.013913554154743983]\n",
            "\n"
          ]
        }
      ]
    },
    {
      "cell_type": "code",
      "source": [
        "#convert the x_train and y_train  to numppy array\n",
        "x_train,y_train = np.array(x_train), np.array(y_train)\n",
        "x_train.shape"
      ],
      "metadata": {
        "colab": {
          "base_uri": "https://localhost:8080/"
        },
        "id": "8amhFejMfZ_t",
        "outputId": "3fdfb529-9d5b-4692-8c71-4bd00d6ae138"
      },
      "execution_count": 19,
      "outputs": [
        {
          "output_type": "execute_result",
          "data": {
            "text/plain": [
              "(1294, 60)"
            ]
          },
          "metadata": {},
          "execution_count": 19
        }
      ]
    },
    {
      "cell_type": "code",
      "source": [
        "#Buil the LSTM model\n",
        "model =Sequential()\n",
        "model.add(LSTM(64,return_sequences=True, input_shape=(x_train.shape[1],1)))\n",
        "model.add(LSTM(64, return_sequences= False))\n",
        "model.add(Dense(32))\n",
        "model.add(Dense(1))"
      ],
      "metadata": {
        "id": "HEhSHYuKh3X3"
      },
      "execution_count": 20,
      "outputs": []
    },
    {
      "cell_type": "code",
      "source": [
        "#Complie the model\n",
        "model.compile(optimizer='adam', loss='mean_squared_error')"
      ],
      "metadata": {
        "id": "Hcyh2t85h9l2"
      },
      "execution_count": 21,
      "outputs": []
    },
    {
      "cell_type": "code",
      "source": [
        "#Train the model\n",
        "model.fit(x_train,y_train, batch_size=1, epochs=10)"
      ],
      "metadata": {
        "colab": {
          "base_uri": "https://localhost:8080/"
        },
        "id": "GMO8RyJiiA81",
        "outputId": "030be9be-a61d-4193-8fd8-b66fe2a4150e"
      },
      "execution_count": 22,
      "outputs": [
        {
          "output_type": "stream",
          "name": "stdout",
          "text": [
            "Epoch 1/10\n",
            "1294/1294 [==============================] - 35s 25ms/step - loss: 0.0039\n",
            "Epoch 2/10\n",
            "1294/1294 [==============================] - 32s 25ms/step - loss: 0.0014\n",
            "Epoch 3/10\n",
            "1294/1294 [==============================] - 33s 26ms/step - loss: 0.0010\n",
            "Epoch 4/10\n",
            "1294/1294 [==============================] - 30s 23ms/step - loss: 6.8012e-04\n",
            "Epoch 5/10\n",
            "1294/1294 [==============================] - 30s 23ms/step - loss: 7.6169e-04\n",
            "Epoch 6/10\n",
            "1294/1294 [==============================] - 30s 23ms/step - loss: 5.5844e-04\n",
            "Epoch 7/10\n",
            "1294/1294 [==============================] - 31s 24ms/step - loss: 6.3928e-04\n",
            "Epoch 8/10\n",
            "1294/1294 [==============================] - 30s 23ms/step - loss: 6.5374e-04\n",
            "Epoch 9/10\n",
            "1294/1294 [==============================] - 31s 24ms/step - loss: 5.2788e-04\n",
            "Epoch 10/10\n",
            "1294/1294 [==============================] - 31s 24ms/step - loss: 5.4503e-04\n"
          ]
        },
        {
          "output_type": "execute_result",
          "data": {
            "text/plain": [
              "<keras.callbacks.History at 0x7f032e680410>"
            ]
          },
          "metadata": {},
          "execution_count": 22
        }
      ]
    },
    {
      "cell_type": "code",
      "source": [
        "#create the testing data sets\n",
        "#create a new array containing scale values from index 1543 to 2003\n",
        "test_data= scaled_data[training_data_len-60:, :]\n",
        "#create the data sets x_test and y_test\n",
        "x_test = []\n",
        "y_test = dataset[training_data_len:,:]\n",
        "for i in range(60,len(test_data)):\n",
        "    x_test.append(test_data[i-60:i,0])"
      ],
      "metadata": {
        "id": "Z-v4UIBUjWKt"
      },
      "execution_count": 23,
      "outputs": []
    },
    {
      "cell_type": "code",
      "source": [
        "#convert the data to a numpy array\n",
        "x_test = np.array(x_test)"
      ],
      "metadata": {
        "id": "gBK8fEjLjZr1"
      },
      "execution_count": 24,
      "outputs": []
    }
  ]
}